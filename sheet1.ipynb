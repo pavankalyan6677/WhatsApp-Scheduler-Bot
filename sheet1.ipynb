{
 "cells": [
  {
   "cell_type": "code",
   "execution_count": 1,
   "id": "56e75bf4-3366-46fa-8d8d-f38251b660a7",
   "metadata": {},
   "outputs": [
    {
     "name": "stdout",
     "output_type": "stream",
     "text": [
      "Requirement already satisfied: pywhatkit in c:\\users\\m pavan kalyan\\python lab\\jupyter new\\lib\\site-packages (5.4)\n",
      "Requirement already satisfied: pandas in c:\\users\\m pavan kalyan\\python lab\\jupyter new\\lib\\site-packages (2.2.2)\n",
      "Requirement already satisfied: openpyxl in c:\\users\\m pavan kalyan\\python lab\\jupyter new\\lib\\site-packages (3.1.5)\n",
      "Requirement already satisfied: Pillow in c:\\users\\m pavan kalyan\\python lab\\jupyter new\\lib\\site-packages (from pywhatkit) (10.4.0)\n",
      "Requirement already satisfied: pyautogui in c:\\users\\m pavan kalyan\\python lab\\jupyter new\\lib\\site-packages (from pywhatkit) (0.9.54)\n",
      "Requirement already satisfied: requests in c:\\users\\m pavan kalyan\\python lab\\jupyter new\\lib\\site-packages (from pywhatkit) (2.32.3)\n",
      "Requirement already satisfied: wikipedia in c:\\users\\m pavan kalyan\\python lab\\jupyter new\\lib\\site-packages (from pywhatkit) (1.4.0)\n",
      "Requirement already satisfied: Flask in c:\\users\\m pavan kalyan\\python lab\\jupyter new\\lib\\site-packages (from pywhatkit) (3.0.3)\n",
      "Requirement already satisfied: numpy>=1.26.0 in c:\\users\\m pavan kalyan\\python lab\\jupyter new\\lib\\site-packages (from pandas) (1.26.4)\n",
      "Requirement already satisfied: python-dateutil>=2.8.2 in c:\\users\\m pavan kalyan\\python lab\\jupyter new\\lib\\site-packages (from pandas) (2.9.0.post0)\n",
      "Requirement already satisfied: pytz>=2020.1 in c:\\users\\m pavan kalyan\\python lab\\jupyter new\\lib\\site-packages (from pandas) (2024.1)\n",
      "Requirement already satisfied: tzdata>=2022.7 in c:\\users\\m pavan kalyan\\python lab\\jupyter new\\lib\\site-packages (from pandas) (2023.3)\n",
      "Requirement already satisfied: et-xmlfile in c:\\users\\m pavan kalyan\\python lab\\jupyter new\\lib\\site-packages (from openpyxl) (1.1.0)\n",
      "Requirement already satisfied: six>=1.5 in c:\\users\\m pavan kalyan\\python lab\\jupyter new\\lib\\site-packages (from python-dateutil>=2.8.2->pandas) (1.16.0)\n",
      "Requirement already satisfied: Werkzeug>=3.0.0 in c:\\users\\m pavan kalyan\\python lab\\jupyter new\\lib\\site-packages (from Flask->pywhatkit) (3.0.3)\n",
      "Requirement already satisfied: Jinja2>=3.1.2 in c:\\users\\m pavan kalyan\\python lab\\jupyter new\\lib\\site-packages (from Flask->pywhatkit) (3.1.4)\n",
      "Requirement already satisfied: itsdangerous>=2.1.2 in c:\\users\\m pavan kalyan\\python lab\\jupyter new\\lib\\site-packages (from Flask->pywhatkit) (2.2.0)\n",
      "Requirement already satisfied: click>=8.1.3 in c:\\users\\m pavan kalyan\\python lab\\jupyter new\\lib\\site-packages (from Flask->pywhatkit) (8.1.7)\n",
      "Requirement already satisfied: blinker>=1.6.2 in c:\\users\\m pavan kalyan\\python lab\\jupyter new\\lib\\site-packages (from Flask->pywhatkit) (1.6.2)\n",
      "Requirement already satisfied: pymsgbox in c:\\users\\m pavan kalyan\\python lab\\jupyter new\\lib\\site-packages (from pyautogui->pywhatkit) (1.0.9)\n",
      "Requirement already satisfied: pytweening>=1.0.4 in c:\\users\\m pavan kalyan\\python lab\\jupyter new\\lib\\site-packages (from pyautogui->pywhatkit) (1.2.0)\n",
      "Requirement already satisfied: pyscreeze>=0.1.21 in c:\\users\\m pavan kalyan\\python lab\\jupyter new\\lib\\site-packages (from pyautogui->pywhatkit) (1.0.1)\n",
      "Requirement already satisfied: pygetwindow>=0.0.5 in c:\\users\\m pavan kalyan\\python lab\\jupyter new\\lib\\site-packages (from pyautogui->pywhatkit) (0.0.9)\n",
      "Requirement already satisfied: mouseinfo in c:\\users\\m pavan kalyan\\python lab\\jupyter new\\lib\\site-packages (from pyautogui->pywhatkit) (0.1.3)\n",
      "Requirement already satisfied: charset-normalizer<4,>=2 in c:\\users\\m pavan kalyan\\python lab\\jupyter new\\lib\\site-packages (from requests->pywhatkit) (3.3.2)\n",
      "Requirement already satisfied: idna<4,>=2.5 in c:\\users\\m pavan kalyan\\python lab\\jupyter new\\lib\\site-packages (from requests->pywhatkit) (3.7)\n",
      "Requirement already satisfied: urllib3<3,>=1.21.1 in c:\\users\\m pavan kalyan\\python lab\\jupyter new\\lib\\site-packages (from requests->pywhatkit) (2.2.3)\n",
      "Requirement already satisfied: certifi>=2017.4.17 in c:\\users\\m pavan kalyan\\python lab\\jupyter new\\lib\\site-packages (from requests->pywhatkit) (2024.8.30)\n",
      "Requirement already satisfied: beautifulsoup4 in c:\\users\\m pavan kalyan\\python lab\\jupyter new\\lib\\site-packages (from wikipedia->pywhatkit) (4.12.3)\n",
      "Requirement already satisfied: colorama in c:\\users\\m pavan kalyan\\python lab\\jupyter new\\lib\\site-packages (from click>=8.1.3->Flask->pywhatkit) (0.4.6)\n",
      "Requirement already satisfied: MarkupSafe>=2.0 in c:\\users\\m pavan kalyan\\python lab\\jupyter new\\lib\\site-packages (from Jinja2>=3.1.2->Flask->pywhatkit) (2.1.3)\n",
      "Requirement already satisfied: pyrect in c:\\users\\m pavan kalyan\\python lab\\jupyter new\\lib\\site-packages (from pygetwindow>=0.0.5->pyautogui->pywhatkit) (0.2.0)\n",
      "Requirement already satisfied: soupsieve>1.2 in c:\\users\\m pavan kalyan\\python lab\\jupyter new\\lib\\site-packages (from beautifulsoup4->wikipedia->pywhatkit) (2.5)\n",
      "Requirement already satisfied: pyperclip in c:\\users\\m pavan kalyan\\python lab\\jupyter new\\lib\\site-packages (from mouseinfo->pyautogui->pywhatkit) (1.9.0)\n"
     ]
    }
   ],
   "source": [
    "!pip install pywhatkit pandas openpyxl"
   ]
  },
  {
   "cell_type": "code",
   "execution_count": 3,
   "id": "52856933-0ed7-4cb1-882c-d48e17df697d",
   "metadata": {},
   "outputs": [
    {
     "name": "stdout",
     "output_type": "stream",
     "text": [
      "Requirement already satisfied: gspread in c:\\users\\m pavan kalyan\\python lab\\jupyter new\\lib\\site-packages (6.1.4)\n",
      "Requirement already satisfied: pywhatkit in c:\\users\\m pavan kalyan\\python lab\\jupyter new\\lib\\site-packages (5.4)\n",
      "Requirement already satisfied: oauth2client in c:\\users\\m pavan kalyan\\python lab\\jupyter new\\lib\\site-packages (4.1.3)\n",
      "Requirement already satisfied: pandas in c:\\users\\m pavan kalyan\\python lab\\jupyter new\\lib\\site-packages (2.2.2)\n",
      "Requirement already satisfied: google-auth>=1.12.0 in c:\\users\\m pavan kalyan\\python lab\\jupyter new\\lib\\site-packages (from gspread) (2.35.0)\n",
      "Requirement already satisfied: google-auth-oauthlib>=0.4.1 in c:\\users\\m pavan kalyan\\python lab\\jupyter new\\lib\\site-packages (from gspread) (1.2.1)\n",
      "Requirement already satisfied: Pillow in c:\\users\\m pavan kalyan\\python lab\\jupyter new\\lib\\site-packages (from pywhatkit) (10.4.0)\n",
      "Requirement already satisfied: pyautogui in c:\\users\\m pavan kalyan\\python lab\\jupyter new\\lib\\site-packages (from pywhatkit) (0.9.54)\n",
      "Requirement already satisfied: requests in c:\\users\\m pavan kalyan\\python lab\\jupyter new\\lib\\site-packages (from pywhatkit) (2.32.3)\n",
      "Requirement already satisfied: wikipedia in c:\\users\\m pavan kalyan\\python lab\\jupyter new\\lib\\site-packages (from pywhatkit) (1.4.0)\n",
      "Requirement already satisfied: Flask in c:\\users\\m pavan kalyan\\python lab\\jupyter new\\lib\\site-packages (from pywhatkit) (3.0.3)\n",
      "Requirement already satisfied: httplib2>=0.9.1 in c:\\users\\m pavan kalyan\\python lab\\jupyter new\\lib\\site-packages (from oauth2client) (0.22.0)\n",
      "Requirement already satisfied: pyasn1>=0.1.7 in c:\\users\\m pavan kalyan\\python lab\\jupyter new\\lib\\site-packages (from oauth2client) (0.4.8)\n",
      "Requirement already satisfied: pyasn1-modules>=0.0.5 in c:\\users\\m pavan kalyan\\python lab\\jupyter new\\lib\\site-packages (from oauth2client) (0.2.8)\n",
      "Requirement already satisfied: rsa>=3.1.4 in c:\\users\\m pavan kalyan\\python lab\\jupyter new\\lib\\site-packages (from oauth2client) (4.9)\n",
      "Requirement already satisfied: six>=1.6.1 in c:\\users\\m pavan kalyan\\python lab\\jupyter new\\lib\\site-packages (from oauth2client) (1.16.0)\n",
      "Requirement already satisfied: numpy>=1.26.0 in c:\\users\\m pavan kalyan\\python lab\\jupyter new\\lib\\site-packages (from pandas) (1.26.4)\n",
      "Requirement already satisfied: python-dateutil>=2.8.2 in c:\\users\\m pavan kalyan\\python lab\\jupyter new\\lib\\site-packages (from pandas) (2.9.0.post0)\n",
      "Requirement already satisfied: pytz>=2020.1 in c:\\users\\m pavan kalyan\\python lab\\jupyter new\\lib\\site-packages (from pandas) (2024.1)\n",
      "Requirement already satisfied: tzdata>=2022.7 in c:\\users\\m pavan kalyan\\python lab\\jupyter new\\lib\\site-packages (from pandas) (2023.3)\n",
      "Requirement already satisfied: cachetools<6.0,>=2.0.0 in c:\\users\\m pavan kalyan\\python lab\\jupyter new\\lib\\site-packages (from google-auth>=1.12.0->gspread) (5.3.3)\n",
      "Requirement already satisfied: requests-oauthlib>=0.7.0 in c:\\users\\m pavan kalyan\\python lab\\jupyter new\\lib\\site-packages (from google-auth-oauthlib>=0.4.1->gspread) (2.0.0)\n",
      "Requirement already satisfied: pyparsing!=3.0.0,!=3.0.1,!=3.0.2,!=3.0.3,<4,>=2.4.2 in c:\\users\\m pavan kalyan\\python lab\\jupyter new\\lib\\site-packages (from httplib2>=0.9.1->oauth2client) (3.1.2)\n",
      "Requirement already satisfied: Werkzeug>=3.0.0 in c:\\users\\m pavan kalyan\\python lab\\jupyter new\\lib\\site-packages (from Flask->pywhatkit) (3.0.3)\n",
      "Requirement already satisfied: Jinja2>=3.1.2 in c:\\users\\m pavan kalyan\\python lab\\jupyter new\\lib\\site-packages (from Flask->pywhatkit) (3.1.4)\n",
      "Requirement already satisfied: itsdangerous>=2.1.2 in c:\\users\\m pavan kalyan\\python lab\\jupyter new\\lib\\site-packages (from Flask->pywhatkit) (2.2.0)\n",
      "Requirement already satisfied: click>=8.1.3 in c:\\users\\m pavan kalyan\\python lab\\jupyter new\\lib\\site-packages (from Flask->pywhatkit) (8.1.7)\n",
      "Requirement already satisfied: blinker>=1.6.2 in c:\\users\\m pavan kalyan\\python lab\\jupyter new\\lib\\site-packages (from Flask->pywhatkit) (1.6.2)\n",
      "Requirement already satisfied: pymsgbox in c:\\users\\m pavan kalyan\\python lab\\jupyter new\\lib\\site-packages (from pyautogui->pywhatkit) (1.0.9)\n",
      "Requirement already satisfied: pytweening>=1.0.4 in c:\\users\\m pavan kalyan\\python lab\\jupyter new\\lib\\site-packages (from pyautogui->pywhatkit) (1.2.0)\n",
      "Requirement already satisfied: pyscreeze>=0.1.21 in c:\\users\\m pavan kalyan\\python lab\\jupyter new\\lib\\site-packages (from pyautogui->pywhatkit) (1.0.1)\n",
      "Requirement already satisfied: pygetwindow>=0.0.5 in c:\\users\\m pavan kalyan\\python lab\\jupyter new\\lib\\site-packages (from pyautogui->pywhatkit) (0.0.9)\n",
      "Requirement already satisfied: mouseinfo in c:\\users\\m pavan kalyan\\python lab\\jupyter new\\lib\\site-packages (from pyautogui->pywhatkit) (0.1.3)\n",
      "Requirement already satisfied: charset-normalizer<4,>=2 in c:\\users\\m pavan kalyan\\python lab\\jupyter new\\lib\\site-packages (from requests->pywhatkit) (3.3.2)\n",
      "Requirement already satisfied: idna<4,>=2.5 in c:\\users\\m pavan kalyan\\python lab\\jupyter new\\lib\\site-packages (from requests->pywhatkit) (3.7)\n",
      "Requirement already satisfied: urllib3<3,>=1.21.1 in c:\\users\\m pavan kalyan\\python lab\\jupyter new\\lib\\site-packages (from requests->pywhatkit) (2.2.3)\n",
      "Requirement already satisfied: certifi>=2017.4.17 in c:\\users\\m pavan kalyan\\python lab\\jupyter new\\lib\\site-packages (from requests->pywhatkit) (2024.8.30)\n",
      "Requirement already satisfied: beautifulsoup4 in c:\\users\\m pavan kalyan\\python lab\\jupyter new\\lib\\site-packages (from wikipedia->pywhatkit) (4.12.3)\n",
      "Requirement already satisfied: colorama in c:\\users\\m pavan kalyan\\python lab\\jupyter new\\lib\\site-packages (from click>=8.1.3->Flask->pywhatkit) (0.4.6)\n",
      "Requirement already satisfied: MarkupSafe>=2.0 in c:\\users\\m pavan kalyan\\python lab\\jupyter new\\lib\\site-packages (from Jinja2>=3.1.2->Flask->pywhatkit) (2.1.3)\n",
      "Requirement already satisfied: pyrect in c:\\users\\m pavan kalyan\\python lab\\jupyter new\\lib\\site-packages (from pygetwindow>=0.0.5->pyautogui->pywhatkit) (0.2.0)\n",
      "Requirement already satisfied: oauthlib>=3.0.0 in c:\\users\\m pavan kalyan\\python lab\\jupyter new\\lib\\site-packages (from requests-oauthlib>=0.7.0->google-auth-oauthlib>=0.4.1->gspread) (3.2.2)\n",
      "Requirement already satisfied: soupsieve>1.2 in c:\\users\\m pavan kalyan\\python lab\\jupyter new\\lib\\site-packages (from beautifulsoup4->wikipedia->pywhatkit) (2.5)\n",
      "Requirement already satisfied: pyperclip in c:\\users\\m pavan kalyan\\python lab\\jupyter new\\lib\\site-packages (from mouseinfo->pyautogui->pywhatkit) (1.9.0)\n"
     ]
    }
   ],
   "source": [
    "!pip install gspread pywhatkit oauth2client pandas\n"
   ]
  },
  {
   "cell_type": "code",
   "execution_count": 5,
   "id": "7025b6eb-4079-4ca4-808b-cc713077041e",
   "metadata": {},
   "outputs": [
    {
     "name": "stdout",
     "output_type": "stream",
     "text": [
      "Requirement already satisfied: gspread in c:\\users\\m pavan kalyan\\python lab\\jupyter new\\lib\\site-packages (6.1.4)\n",
      "Requirement already satisfied: oauth2client in c:\\users\\m pavan kalyan\\python lab\\jupyter new\\lib\\site-packages (4.1.3)\n",
      "Requirement already satisfied: pandas in c:\\users\\m pavan kalyan\\python lab\\jupyter new\\lib\\site-packages (2.2.2)\n",
      "Requirement already satisfied: google-auth>=1.12.0 in c:\\users\\m pavan kalyan\\python lab\\jupyter new\\lib\\site-packages (from gspread) (2.35.0)\n",
      "Requirement already satisfied: google-auth-oauthlib>=0.4.1 in c:\\users\\m pavan kalyan\\python lab\\jupyter new\\lib\\site-packages (from gspread) (1.2.1)\n",
      "Requirement already satisfied: httplib2>=0.9.1 in c:\\users\\m pavan kalyan\\python lab\\jupyter new\\lib\\site-packages (from oauth2client) (0.22.0)\n",
      "Requirement already satisfied: pyasn1>=0.1.7 in c:\\users\\m pavan kalyan\\python lab\\jupyter new\\lib\\site-packages (from oauth2client) (0.4.8)\n",
      "Requirement already satisfied: pyasn1-modules>=0.0.5 in c:\\users\\m pavan kalyan\\python lab\\jupyter new\\lib\\site-packages (from oauth2client) (0.2.8)\n",
      "Requirement already satisfied: rsa>=3.1.4 in c:\\users\\m pavan kalyan\\python lab\\jupyter new\\lib\\site-packages (from oauth2client) (4.9)\n",
      "Requirement already satisfied: six>=1.6.1 in c:\\users\\m pavan kalyan\\python lab\\jupyter new\\lib\\site-packages (from oauth2client) (1.16.0)\n",
      "Requirement already satisfied: numpy>=1.26.0 in c:\\users\\m pavan kalyan\\python lab\\jupyter new\\lib\\site-packages (from pandas) (1.26.4)\n",
      "Requirement already satisfied: python-dateutil>=2.8.2 in c:\\users\\m pavan kalyan\\python lab\\jupyter new\\lib\\site-packages (from pandas) (2.9.0.post0)\n",
      "Requirement already satisfied: pytz>=2020.1 in c:\\users\\m pavan kalyan\\python lab\\jupyter new\\lib\\site-packages (from pandas) (2024.1)\n",
      "Requirement already satisfied: tzdata>=2022.7 in c:\\users\\m pavan kalyan\\python lab\\jupyter new\\lib\\site-packages (from pandas) (2023.3)\n",
      "Requirement already satisfied: cachetools<6.0,>=2.0.0 in c:\\users\\m pavan kalyan\\python lab\\jupyter new\\lib\\site-packages (from google-auth>=1.12.0->gspread) (5.3.3)\n",
      "Requirement already satisfied: requests-oauthlib>=0.7.0 in c:\\users\\m pavan kalyan\\python lab\\jupyter new\\lib\\site-packages (from google-auth-oauthlib>=0.4.1->gspread) (2.0.0)\n",
      "Requirement already satisfied: pyparsing!=3.0.0,!=3.0.1,!=3.0.2,!=3.0.3,<4,>=2.4.2 in c:\\users\\m pavan kalyan\\python lab\\jupyter new\\lib\\site-packages (from httplib2>=0.9.1->oauth2client) (3.1.2)\n",
      "Requirement already satisfied: oauthlib>=3.0.0 in c:\\users\\m pavan kalyan\\python lab\\jupyter new\\lib\\site-packages (from requests-oauthlib>=0.7.0->google-auth-oauthlib>=0.4.1->gspread) (3.2.2)\n",
      "Requirement already satisfied: requests>=2.0.0 in c:\\users\\m pavan kalyan\\python lab\\jupyter new\\lib\\site-packages (from requests-oauthlib>=0.7.0->google-auth-oauthlib>=0.4.1->gspread) (2.32.3)\n",
      "Requirement already satisfied: charset-normalizer<4,>=2 in c:\\users\\m pavan kalyan\\python lab\\jupyter new\\lib\\site-packages (from requests>=2.0.0->requests-oauthlib>=0.7.0->google-auth-oauthlib>=0.4.1->gspread) (3.3.2)\n",
      "Requirement already satisfied: idna<4,>=2.5 in c:\\users\\m pavan kalyan\\python lab\\jupyter new\\lib\\site-packages (from requests>=2.0.0->requests-oauthlib>=0.7.0->google-auth-oauthlib>=0.4.1->gspread) (3.7)\n",
      "Requirement already satisfied: urllib3<3,>=1.21.1 in c:\\users\\m pavan kalyan\\python lab\\jupyter new\\lib\\site-packages (from requests>=2.0.0->requests-oauthlib>=0.7.0->google-auth-oauthlib>=0.4.1->gspread) (2.2.3)\n",
      "Requirement already satisfied: certifi>=2017.4.17 in c:\\users\\m pavan kalyan\\python lab\\jupyter new\\lib\\site-packages (from requests>=2.0.0->requests-oauthlib>=0.7.0->google-auth-oauthlib>=0.4.1->gspread) (2024.8.30)\n",
      "Note: you may need to restart the kernel to use updated packages.\n"
     ]
    }
   ],
   "source": [
    "pip install gspread oauth2client pandas\n"
   ]
  },
  {
   "cell_type": "code",
   "execution_count": 36,
   "id": "ba16d2f1-0822-4f81-97cb-0ba9e7efbc8d",
   "metadata": {},
   "outputs": [
    {
     "name": "stdout",
     "output_type": "stream",
     "text": [
      "Updated phone number: +919030863595\n",
      "In 7 Seconds WhatsApp will open and after 15 Seconds Message will be Delivered!\n",
      "Message sent to +919030863595\n"
     ]
    }
   ],
   "source": [
    "import pywhatkit\n",
    "import gspread\n",
    "from oauth2client.service_account import ServiceAccountCredentials\n",
    "from datetime import datetime, timedelta\n",
    "import time\n",
    "import pandas as pd\n",
    "\n",
    "# Set up the API scope\n",
    "scope = [\"https://spreadsheets.google.com/feeds\", \n",
    "         \"https://www.googleapis.com/auth/spreadsheets\",\n",
    "         \"https://www.googleapis.com/auth/drive\"]\n",
    "\n",
    "# Load credentials from JSON key file\n",
    "creds = ServiceAccountCredentials.from_json_keyfile_name(\"C:\\\\Users\\\\M Pavan kalyan\\\\OneDrive\\\\Desktop\\\\Access File.json\", scope)\n",
    "client = gspread.authorize(creds)\n",
    "\n",
    "# Open the Google Sheet\n",
    "sheet = client.open(\"Book1\").sheet1  # Access the first sheet\n",
    "data = sheet.get_all_records()  # Get all records from the sheet\n",
    "contacts = pd.DataFrame(data)\n",
    "\n",
    "# Convert 'Phone' column to string to avoid integer interpretation\n",
    "contacts['Phone'] = contacts['Phone'].astype(str)\n",
    "\n",
    "# Loop through each contact and send message\n",
    "for index, row in contacts.iterrows():\n",
    "    phone_number = row['Phone']\n",
    "    message = row['Message']\n",
    "    \n",
    "    # Check if the phone number has exactly ten digits after the country code\n",
    "    # and ensure it starts with \"+\" to indicate a country code\n",
    "    if not phone_number.startswith(\"+\"):\n",
    "        phone_number = \"+\" + phone_number  # Add '+' if missing\n",
    "        print(f\"Updated phone number: {phone_number}\")\n",
    "        \n",
    "        # Get the current time and set to send the message 2 minutes from now\n",
    "        now = datetime.now() + timedelta(minutes=1)  # Add 2 minutes for buffer time\n",
    "        hour = now.hour\n",
    "        minute = now.minute  # Handles minute overflow automatically\n",
    "        \n",
    "        try:\n",
    "            # Send the message\n",
    "            pywhatkit.sendwhatmsg(phone_number, message, hour, minute)\n",
    "            print(f\"Message sent to {phone_number}\")\n",
    "            \n",
    "            # Wait a few seconds to avoid getting flagged by WhatsApp\n",
    "            time.sleep(20)\n",
    "        except Exception as e:\n",
    "            print(f\"Failed to send message to {phone_number}: {e}\")\n",
    "    else:\n",
    "        # Print an error if the phone number is invalid\n",
    "        print(f\"Invalid phone number: {phone_number}. Number must start with '+' and contain more than ten digits.\")\n"
   ]
  },
  {
   "cell_type": "code",
   "execution_count": null,
   "id": "153db5fb-3db1-4b27-b03a-dd1207671b71",
   "metadata": {},
   "outputs": [],
   "source": []
  }
 ],
 "metadata": {
  "kernelspec": {
   "display_name": "Python 3 (ipykernel)",
   "language": "python",
   "name": "python3"
  },
  "language_info": {
   "codemirror_mode": {
    "name": "ipython",
    "version": 3
   },
   "file_extension": ".py",
   "mimetype": "text/x-python",
   "name": "python",
   "nbconvert_exporter": "python",
   "pygments_lexer": "ipython3",
   "version": "3.12.7"
  }
 },
 "nbformat": 4,
 "nbformat_minor": 5
}
